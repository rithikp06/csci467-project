{
 "cells": [
  {
   "cell_type": "code",
   "execution_count": 193,
   "metadata": {},
   "outputs": [],
   "source": [
    "import new_feature_extraction as nfe\n",
    "from new_feature_extraction import read_data\n",
    "from new_feature_extraction import read_logistic_data\n",
    "from new_feature_extraction import read_buy_rating_data\n",
    "from new_feature_extraction import get_all_stocks_df\n",
    "from new_feature_extraction import get_stock_df\n",
    "from new_feature_extraction import featurize\n",
    "import numpy as np\n",
    "import pandas as pd\n",
    "import matplotlib.pyplot as plt"
   ]
  },
  {
   "cell_type": "code",
   "execution_count": 194,
   "metadata": {},
   "outputs": [],
   "source": [
    "from IPython.core.interactiveshell import InteractiveShell\n",
    "\n",
    "InteractiveShell.ast_node_interactivity = 'last_expr'"
   ]
  },
  {
   "cell_type": "code",
   "execution_count": 195,
   "metadata": {},
   "outputs": [],
   "source": [
    "# df = get_stock_df(\"/Users/rithikpothuganti/cs467/csci467-project/data/uis.csv\")\n",
    "df = get_all_stocks_df()"
   ]
  },
  {
   "cell_type": "code",
   "execution_count": 196,
   "metadata": {},
   "outputs": [
    {
     "name": "stderr",
     "output_type": "stream",
     "text": [
      "/var/folders/ps/hbp83zj53cb60mmc6jt7f2s00000gn/T/ipykernel_6227/3718641654.py:9: SettingWithCopyWarning: \n",
      "A value is trying to be set on a copy of a slice from a DataFrame\n",
      "\n",
      "See the caveats in the documentation: https://pandas.pydata.org/pandas-docs/stable/user_guide/indexing.html#returning-a-view-versus-a-copy\n",
      "  X.fillna(0, inplace=True)\n"
     ]
    },
    {
     "data": {
      "text/plain": [
       "1258   2018-03-12\n",
       "1259   2018-03-13\n",
       "1260   2018-03-14\n",
       "1261   2018-03-15\n",
       "1262   2018-03-16\n",
       "1263   2018-03-19\n",
       "1264   2018-03-20\n",
       "1265   2018-03-21\n",
       "1266   2018-03-22\n",
       "1267   2018-03-23\n",
       "Name: Date, dtype: datetime64[ns]"
      ]
     },
     "execution_count": 196,
     "metadata": {},
     "output_type": "execute_result"
    }
   ],
   "source": [
    "from sklearn.model_selection import train_test_split\n",
    "\n",
    "features = ['r_90d', 'r_180d', 'r_1y', 'r_2y', 'r_5y', 'r_10y']\n",
    "# features = ['r_15d', 'r_30d', 'r_90d', 'r_180d', 'r_1y', 'r_2y', 'r_5y', 'r_10y']\n",
    "# features = ['r_15d', 'r_30d', 'r_90d', 'r_180d', 'r_1y']\n",
    "label = ['target_return', 'label', 'Date', 'Close/Last', 'rating']\n",
    "\n",
    "X = df[features]\n",
    "X.fillna(0, inplace=True)\n",
    "y = df[label]\n",
    "\n",
    "# Define the split indices\n",
    "train_split_idx = int(len(X) * 0.5)\n",
    "dev_split_idx = int(len(X) * 0.75)\n",
    "\n",
    "# Train split\n",
    "X_train_df, y_train_df = X.iloc[:train_split_idx], y.iloc[:train_split_idx]\n",
    "train_dates = df[\"Date\"].iloc[:train_split_idx]\n",
    "\n",
    "# Dev (validation) split\n",
    "X_dev_df, y_dev_df = X.iloc[train_split_idx:dev_split_idx], y.iloc[train_split_idx:dev_split_idx]\n",
    "dev_dates = df[\"Date\"].iloc[train_split_idx:dev_split_idx]\n",
    "\n",
    "# Test split\n",
    "X_test_df, y_test_df = X.iloc[dev_split_idx:], y.iloc[dev_split_idx:]\n",
    "test_dates = df[\"Date\"].iloc[dev_split_idx:]\n",
    "\n",
    "# Combine dev and test sets\n",
    "X_combined = pd.concat([X_dev_df, X_test_df], axis=0)\n",
    "y_combined = pd.concat([y_dev_df, y_test_df], axis=0)\n",
    "combined_dates = pd.concat([dev_dates, test_dates], axis=0)\n",
    "\n",
    "# Shuffle combined dev and test sets\n",
    "# X_dev, X_test, y_dev, y_test, dev_dates, test_dates = train_test_split(\n",
    "#     X_combined, y_combined, combined_dates, test_size=len(y_test_df) / len(y_combined), shuffle=True\n",
    "# )\n",
    "\n",
    "dev_dates.head(10)\n"
   ]
  },
  {
   "cell_type": "code",
   "execution_count": 197,
   "metadata": {},
   "outputs": [
    {
     "name": "stdout",
     "output_type": "stream",
     "text": [
      "MSE: 0.3131076375755096\n"
     ]
    }
   ],
   "source": [
    "# linear regression\n",
    "from sklearn.linear_model import LinearRegression\n",
    "from sklearn.metrics import mean_squared_error, r2_score\n",
    "DEGREE = 1\n",
    "X_train, y_train = read_data(X_train_df, y_train_df)\n",
    "X_train = featurize(X_train, d=DEGREE)\n",
    "X_dev, y_dev = read_data(X_dev_df, y_dev_df)\n",
    "X_dev = featurize(X_dev, d=DEGREE)\n",
    "\n",
    "linreg_model = LinearRegression()\n",
    "reg = linreg_model.fit(X_train, y_train)  # Train the model\n",
    "y_pred = linreg_model.predict(X_dev)\n",
    "mse = mean_squared_error(y_dev, y_pred)\n",
    "print(\"MSE:\", mse)\n"
   ]
  },
  {
   "cell_type": "code",
   "execution_count": 198,
   "metadata": {},
   "outputs": [
    {
     "name": "stdout",
     "output_type": "stream",
     "text": [
      "softmax regression, dev accuracy:  0.39243027888446214\n"
     ]
    }
   ],
   "source": [
    "# softmax regression\n",
    "\n",
    "from sklearn.linear_model import LogisticRegression\n",
    "from sklearn.preprocessing import StandardScaler\n",
    "\n",
    "DEGREE = 1\n",
    "X_train, y_train = read_buy_rating_data(X_train_df, y_train_df)\n",
    "X_train = featurize(X_train, d=DEGREE)\n",
    "X_dev, y_dev = read_buy_rating_data(X_dev_df, y_dev_df)\n",
    "X_dev = featurize(X_dev, d=DEGREE)\n",
    "\n",
    "# Scale the features using StandardScaler\n",
    "scaler = StandardScaler()\n",
    "X_train_scaled = X_train\n",
    "X_dev_scaled = X_dev\n",
    "\n",
    "softmax_reg = LogisticRegression(multi_class='multinomial', solver='lbfgs', max_iter=200)\n",
    "softmax_reg.fit(X_train_scaled, y_train)  # Train the model\n",
    "w = softmax_reg.coef_.flatten()  # Weight vector\n",
    "\n",
    "def evaluate(model, X, y, name):\n",
    "    preds = model.predict(X)  # vector of size n\n",
    "    acc = np.mean(preds == y)\n",
    "    print(f'{name} accuracy: ', acc)\n",
    "\n",
    "evaluate(softmax_reg, X_dev_scaled, y_dev, \"softmax regression, dev\")\n"
   ]
  },
  {
   "cell_type": "code",
   "execution_count": 199,
   "metadata": {},
   "outputs": [
    {
     "name": "stdout",
     "output_type": "stream",
     "text": [
      "softmax regression, test accuracy:  0.14940239043824702\n"
     ]
    }
   ],
   "source": [
    "X_test, y_test = read_buy_rating_data(X_test_df, y_test_df)\n",
    "X_test = featurize(X_test, d=DEGREE)\n",
    "\n",
    "evaluate(softmax_reg, X_test, y_test, \"softmax regression, test\")"
   ]
  },
  {
   "cell_type": "code",
   "execution_count": 200,
   "metadata": {},
   "outputs": [],
   "source": [
    "# Neural Network\n",
    "\n",
    "import torch\n",
    "import torch.nn as nn\n",
    "import torch.optim as optim\n",
    "from sklearn.model_selection import train_test_split\n",
    "from sklearn.preprocessing import StandardScaler\n",
    "from torch.utils.data import DataLoader, TensorDataset\n",
    "import torch.nn.functional as F\n",
    "\n",
    "class ReturnPredictor(nn.Module):\n",
    "    def __init__(self, input_size, hidden_size, output_size):\n",
    "        super(ReturnPredictor, self).__init__()\n",
    "        self.fc1 = nn.Linear(input_size, hidden_size)\n",
    "        self.bn1 = nn.BatchNorm1d(hidden_size)\n",
    "        self.fc2 = nn.Linear(hidden_size, hidden_size)\n",
    "        self.bn2 = nn.BatchNorm1d(hidden_size)\n",
    "        self.fc3 = nn.Linear(hidden_size, hidden_size)\n",
    "        self.bn3 = nn.BatchNorm1d(hidden_size)\n",
    "        self.fc4 = nn.Linear(hidden_size, hidden_size)\n",
    "        self.bn4 = nn.BatchNorm1d(hidden_size)\n",
    "        self.fc5 = nn.Linear(hidden_size, hidden_size)\n",
    "        self.bn5 = nn.BatchNorm1d(hidden_size)\n",
    "        self.fc6 = nn.Linear(hidden_size, hidden_size)\n",
    "        self.bn6 = nn.BatchNorm1d(hidden_size)\n",
    "        self.fc7 = nn.Linear(hidden_size, output_size)\n",
    "        self.dropout = nn.Dropout(0.3)\n",
    "\n",
    "    def forward(self, x):\n",
    "        x = torch.tanh(self.bn1(self.fc1(x)))\n",
    "        x = self.dropout(x)\n",
    "        x = torch.tanh(self.bn2(self.fc2(x)))\n",
    "        x = self.dropout(x)\n",
    "        x = torch.tanh(self.bn3(self.fc3(x)))\n",
    "        x = self.dropout(x)\n",
    "        x = torch.tanh(self.bn4(self.fc4(x)))\n",
    "        x = self.dropout(x)\n",
    "        x = torch.tanh(self.bn5(self.fc5(x)))\n",
    "        x = self.dropout(x)\n",
    "        x = torch.tanh(self.bn6(self.fc6(x)))\n",
    "        x = self.dropout(x)\n",
    "        x = self.fc7(x)\n",
    "        x = F.softmax(x, dim=1)\n",
    "        return x\n"
   ]
  },
  {
   "cell_type": "code",
   "execution_count": 201,
   "metadata": {},
   "outputs": [],
   "source": [
    "DEGREE = 1\n",
    "X_train, y_train = read_buy_rating_data(X_train_df, y_train_df)\n",
    "X_train = featurize(X_train, d=DEGREE)\n",
    "X_dev, y_dev = read_buy_rating_data(X_dev_df, y_dev_df)\n",
    "X_dev = featurize(X_dev, d=DEGREE)\n",
    "# X_train = scaler.fit_transform(X_train)\n",
    "# X_dev = scaler.transform(X_dev)\n",
    "\n",
    "# # Convert data to PyTorch tensors\n",
    "# X_train_tensor = torch.tensor(X_train, dtype=torch.float32)\n",
    "# y_train_tensor = torch.tensor(y_train, dtype=torch.float32).view(-1, 1)\n",
    "# X_dev_tensor = torch.tensor(X_dev, dtype=torch.float32)\n",
    "# y_dev_tensor = torch.tensor(y_dev, dtype=torch.float32).view(-1, 1)\n",
    "# # stats_2023_tensor = torch.tensor(stats_2023_values, dtype=torch.float32).to('cpu')\n",
    "\n",
    "# # Create DataLoader objects\n",
    "# train_data = TensorDataset(X_train_tensor, y_train_tensor)\n",
    "# train_loader = DataLoader(train_data, batch_size=256, shuffle=False)\n",
    "\n",
    "# test_data = TensorDataset(X_dev_tensor, y_dev_tensor)\n",
    "# dev_loader = DataLoader(test_data, batch_size=256, shuffle=False)\n",
    "\n"
   ]
  },
  {
   "cell_type": "code",
   "execution_count": 202,
   "metadata": {},
   "outputs": [
    {
     "name": "stdout",
     "output_type": "stream",
     "text": [
      "Epoch [1/70], Loss: 1.6140\n",
      "Validation Accuracy: 10.36%\n",
      "Epoch [2/70], Loss: 1.6122\n",
      "Validation Accuracy: 10.36%\n",
      "Epoch [3/70], Loss: 1.6113\n",
      "Validation Accuracy: 7.37%\n",
      "Epoch [4/70], Loss: 1.6141\n",
      "Validation Accuracy: 7.37%\n",
      "Epoch [5/70], Loss: 1.6109\n",
      "Validation Accuracy: 7.37%\n",
      "Epoch [6/70], Loss: 1.6144\n",
      "Validation Accuracy: 7.37%\n",
      "Epoch [7/70], Loss: 1.6097\n",
      "Validation Accuracy: 7.37%\n",
      "Epoch [8/70], Loss: 1.6098\n",
      "Validation Accuracy: 7.37%\n",
      "Epoch [9/70], Loss: 1.6078\n",
      "Validation Accuracy: 7.37%\n",
      "Epoch [10/70], Loss: 1.6062\n",
      "Validation Accuracy: 7.37%\n",
      "Epoch [11/70], Loss: 1.6107\n",
      "Validation Accuracy: 7.37%\n",
      "Epoch [12/70], Loss: 1.6041\n",
      "Validation Accuracy: 7.37%\n",
      "Epoch [13/70], Loss: 1.6066\n",
      "Validation Accuracy: 7.37%\n",
      "Epoch [14/70], Loss: 1.6020\n",
      "Validation Accuracy: 7.37%\n",
      "Epoch [15/70], Loss: 1.6068\n",
      "Validation Accuracy: 7.37%\n",
      "Epoch [16/70], Loss: 1.6043\n",
      "Validation Accuracy: 7.37%\n",
      "Epoch [17/70], Loss: 1.6022\n",
      "Validation Accuracy: 7.37%\n",
      "Epoch [18/70], Loss: 1.6042\n",
      "Validation Accuracy: 7.37%\n",
      "Epoch [19/70], Loss: 1.6040\n",
      "Validation Accuracy: 7.37%\n",
      "Epoch [20/70], Loss: 1.6035\n",
      "Validation Accuracy: 7.37%\n",
      "Epoch [21/70], Loss: 1.6025\n",
      "Validation Accuracy: 7.37%\n",
      "Epoch [22/70], Loss: 1.6007\n",
      "Validation Accuracy: 7.37%\n",
      "Epoch [23/70], Loss: 1.6017\n",
      "Validation Accuracy: 7.37%\n",
      "Epoch [24/70], Loss: 1.5991\n",
      "Validation Accuracy: 7.37%\n",
      "Epoch [25/70], Loss: 1.5949\n",
      "Validation Accuracy: 7.37%\n",
      "Epoch [26/70], Loss: 1.5955\n",
      "Validation Accuracy: 7.37%\n",
      "Epoch [27/70], Loss: 1.6020\n",
      "Validation Accuracy: 7.37%\n",
      "Epoch [28/70], Loss: 1.5954\n",
      "Validation Accuracy: 7.57%\n",
      "Epoch [29/70], Loss: 1.6001\n",
      "Validation Accuracy: 13.15%\n",
      "Epoch [30/70], Loss: 1.5985\n",
      "Validation Accuracy: 16.73%\n",
      "Epoch [31/70], Loss: 1.5933\n",
      "Validation Accuracy: 17.73%\n",
      "Epoch [32/70], Loss: 1.5942\n",
      "Validation Accuracy: 19.92%\n",
      "Epoch [33/70], Loss: 1.5936\n",
      "Validation Accuracy: 21.31%\n",
      "Epoch [34/70], Loss: 1.5925\n",
      "Validation Accuracy: 21.51%\n",
      "Epoch [35/70], Loss: 1.5919\n",
      "Validation Accuracy: 21.71%\n",
      "Epoch [36/70], Loss: 1.5932\n",
      "Validation Accuracy: 21.51%\n",
      "Epoch [37/70], Loss: 1.5865\n",
      "Validation Accuracy: 22.31%\n",
      "Epoch [38/70], Loss: 1.5924\n",
      "Validation Accuracy: 22.51%\n",
      "Epoch [39/70], Loss: 1.5934\n",
      "Validation Accuracy: 23.31%\n",
      "Epoch [40/70], Loss: 1.5912\n",
      "Validation Accuracy: 24.30%\n",
      "Epoch [41/70], Loss: 1.5896\n",
      "Validation Accuracy: 24.90%\n",
      "Epoch [42/70], Loss: 1.5847\n",
      "Validation Accuracy: 25.10%\n",
      "Epoch [43/70], Loss: 1.5857\n",
      "Validation Accuracy: 24.90%\n",
      "Epoch [44/70], Loss: 1.5825\n",
      "Validation Accuracy: 25.70%\n",
      "Epoch [45/70], Loss: 1.5843\n",
      "Validation Accuracy: 25.50%\n",
      "Epoch [46/70], Loss: 1.5877\n",
      "Validation Accuracy: 25.50%\n",
      "Epoch [47/70], Loss: 1.5845\n",
      "Validation Accuracy: 24.50%\n",
      "Epoch [48/70], Loss: 1.5801\n",
      "Validation Accuracy: 24.70%\n",
      "Epoch [49/70], Loss: 1.5783\n",
      "Validation Accuracy: 24.90%\n",
      "Epoch [50/70], Loss: 1.5786\n",
      "Validation Accuracy: 24.90%\n",
      "Epoch [51/70], Loss: 1.5761\n",
      "Validation Accuracy: 25.10%\n",
      "Epoch [52/70], Loss: 1.5762\n",
      "Validation Accuracy: 25.90%\n",
      "Epoch [53/70], Loss: 1.5792\n",
      "Validation Accuracy: 25.70%\n",
      "Epoch [54/70], Loss: 1.5780\n",
      "Validation Accuracy: 25.70%\n",
      "Epoch [55/70], Loss: 1.5735\n",
      "Validation Accuracy: 25.30%\n",
      "Epoch [56/70], Loss: 1.5767\n",
      "Validation Accuracy: 25.50%\n",
      "Epoch [57/70], Loss: 1.5730\n",
      "Validation Accuracy: 25.70%\n",
      "Epoch [58/70], Loss: 1.5722\n",
      "Validation Accuracy: 25.10%\n",
      "Epoch [59/70], Loss: 1.5720\n",
      "Validation Accuracy: 25.30%\n",
      "Epoch [60/70], Loss: 1.5666\n",
      "Validation Accuracy: 25.90%\n",
      "Epoch [61/70], Loss: 1.5717\n",
      "Validation Accuracy: 25.30%\n",
      "Epoch [62/70], Loss: 1.5654\n",
      "Validation Accuracy: 24.90%\n",
      "Epoch [63/70], Loss: 1.5649\n",
      "Validation Accuracy: 25.30%\n",
      "Epoch [64/70], Loss: 1.5639\n",
      "Validation Accuracy: 25.50%\n",
      "Epoch [65/70], Loss: 1.5624\n",
      "Validation Accuracy: 25.10%\n",
      "Epoch [66/70], Loss: 1.5672\n",
      "Validation Accuracy: 25.10%\n",
      "Epoch [67/70], Loss: 1.5645\n",
      "Validation Accuracy: 25.10%\n",
      "Epoch [68/70], Loss: 1.5616\n",
      "Validation Accuracy: 25.10%\n",
      "Epoch [69/70], Loss: 1.5575\n",
      "Validation Accuracy: 24.90%\n",
      "Epoch [70/70], Loss: 1.5562\n",
      "Validation Accuracy: 25.70%\n"
     ]
    }
   ],
   "source": [
    "import torch\n",
    "from torch.utils.data import DataLoader, TensorDataset\n",
    "\n",
    "# Hyperparameters\n",
    "input_size = X_train.shape[1]\n",
    "hidden_size = 128\n",
    "output_size = 5  # Number of classes\n",
    "num_epochs = 70\n",
    "batch_size = 128\n",
    "learning_rate = 0.00001\n",
    "\n",
    "# Convert data to tensors and create DataLoader\n",
    "train_dataset = TensorDataset(torch.tensor(X_train, dtype=torch.float32), torch.tensor(y_train, dtype=torch.long))\n",
    "train_loader = DataLoader(train_dataset, batch_size=batch_size, shuffle=False)\n",
    "\n",
    "dev_dataset = TensorDataset(torch.tensor(X_dev, dtype=torch.float32), torch.tensor(y_dev, dtype=torch.long))\n",
    "dev_loader = DataLoader(dev_dataset, batch_size=batch_size, shuffle=False)\n",
    "\n",
    "# Create the model, loss function, and optimizer\n",
    "model = ReturnPredictor(input_size, hidden_size, output_size)\n",
    "criterion = nn.CrossEntropyLoss()\n",
    "optimizer = torch.optim.Adam(model.parameters(), lr=learning_rate)\n",
    "\n",
    "# Training loop\n",
    "for epoch in range(num_epochs):\n",
    "    model.train()\n",
    "    running_loss = 0.0\n",
    "    for i, (inputs, targets) in enumerate(train_loader):\n",
    "        # Forward pass\n",
    "        outputs = model(inputs)\n",
    "        loss = criterion(outputs, targets)\n",
    "\n",
    "        # Backward pass and optimization\n",
    "        optimizer.zero_grad()\n",
    "        loss.backward()\n",
    "        optimizer.step()\n",
    "\n",
    "        running_loss += loss.item()\n",
    "\n",
    "    epoch_loss = running_loss / len(train_loader)\n",
    "    print(f\"Epoch [{epoch+1}/{num_epochs}], Loss: {epoch_loss:.4f}\")\n",
    "\n",
    "    # Evaluate on validation set\n",
    "    model.eval()\n",
    "    with torch.no_grad():\n",
    "        correct = 0\n",
    "        total = 0\n",
    "        for inputs, targets in dev_loader:\n",
    "            outputs = model(inputs)\n",
    "            _, predicted = torch.max(outputs.data, 1)\n",
    "            total += targets.size(0)\n",
    "            correct += (predicted == targets).sum().item()\n",
    "\n",
    "        accuracy = 100 * correct / total\n",
    "        print(f\"Validation Accuracy: {accuracy:.2f}%\")\n"
   ]
  },
  {
   "cell_type": "code",
   "execution_count": 203,
   "metadata": {},
   "outputs": [
    {
     "name": "stdout",
     "output_type": "stream",
     "text": [
      "Test Accuracy: 12.15%\n"
     ]
    }
   ],
   "source": [
    "# Neural network test accuracy\n",
    "X_test, y_test = read_buy_rating_data(X_test_df, y_test_df)\n",
    "X_test = featurize(X_test, d=DEGREE)\n",
    "\n",
    "test_dataset = TensorDataset(torch.tensor(X_test, dtype=torch.float32), torch.tensor(y_test, dtype=torch.long))\n",
    "test_loader = DataLoader(test_dataset, batch_size=batch_size, shuffle=False)\n",
    "\n",
    "model.eval()\n",
    "with torch.no_grad():\n",
    "    correct = 0\n",
    "    total = 0\n",
    "    for inputs, targets in test_loader:\n",
    "        outputs = model(inputs)\n",
    "        _, predicted = torch.max(outputs.data, 1)\n",
    "        total += targets.size(0)\n",
    "        correct += (predicted == targets).sum().item()\n",
    "    \n",
    "    accuracy = 100 * correct / total\n",
    "    print(f\"Test Accuracy: {accuracy:.2f}%\")"
   ]
  },
  {
   "cell_type": "code",
   "execution_count": 204,
   "metadata": {},
   "outputs": [
    {
     "name": "stdout",
     "output_type": "stream",
     "text": [
      "Validation Accuracy: 45.22%\n"
     ]
    },
    {
     "name": "stderr",
     "output_type": "stream",
     "text": [
      "/Users/rithikpothuganti/cs467/csci467-project/.venv/lib/python3.11/site-packages/sklearn/ensemble/_forest.py:424: FutureWarning: `max_features='auto'` has been deprecated in 1.1 and will be removed in 1.3. To keep the past behaviour, explicitly set `max_features='sqrt'` or remove this parameter as it is also the default value for RandomForestClassifiers and ExtraTreesClassifiers.\n",
      "  warn(\n"
     ]
    }
   ],
   "source": [
    "# Random Forest\n",
    "\n",
    "from sklearn.ensemble import RandomForestClassifier\n",
    "from sklearn.metrics import accuracy_score\n",
    "from sklearn.preprocessing import StandardScaler\n",
    "\n",
    "\n",
    "DEGREE = 10\n",
    "X_train, y_train = read_buy_rating_data(X_train_df, y_train_df)\n",
    "X_train = featurize(X_train, d=DEGREE)\n",
    "X_dev, y_dev = read_buy_rating_data(X_dev_df, y_dev_df)\n",
    "X_dev = featurize(X_dev, d=DEGREE)\n",
    "\n",
    "# Create the Random Forest model\n",
    "rf_classifier = RandomForestClassifier(n_estimators=100, max_depth=100, min_samples_split=100, min_samples_leaf=10, max_features='auto', bootstrap=True)\n",
    "\n",
    "# Train the model\n",
    "rf_classifier.fit(X_train, y_train)\n",
    "\n",
    "# Make predictions on the validation set\n",
    "y_pred = rf_classifier.predict(X_dev)\n",
    "\n",
    "# Calculate the accuracy\n",
    "accuracy = accuracy_score(y_dev, y_pred) * 100\n",
    "print(f\"Validation Accuracy: {accuracy:.2f}%\")\n"
   ]
  },
  {
   "cell_type": "code",
   "execution_count": 205,
   "metadata": {},
   "outputs": [
    {
     "name": "stdout",
     "output_type": "stream",
     "text": [
      "Test Accuracy: 14.54%\n",
      "460\n",
      "502\n"
     ]
    }
   ],
   "source": [
    "# Random Forest Test Accuracy\n",
    "X_test, y_test = read_buy_rating_data(X_test_df, y_test_df)\n",
    "X_test = featurize(X_test, d=DEGREE)\n",
    "\n",
    "y_pred = rf_classifier.predict(X_test)\n",
    "accuracy = accuracy_score(y_test, y_pred) * 100\n",
    "print(f\"Test Accuracy: {accuracy:.2f}%\")\n",
    "print(np.sum(y_pred == 0))\n",
    "print(len(y_pred))"
   ]
  },
  {
   "cell_type": "code",
   "execution_count": 206,
   "metadata": {},
   "outputs": [
    {
     "name": "stdout",
     "output_type": "stream",
     "text": [
      "Validation Accuracy: 0.5797\n"
     ]
    }
   ],
   "source": [
    "# K nearest neighbors\n",
    "from sklearn.neighbors import KNeighborsClassifier\n",
    "\n",
    "DEGREE = 1\n",
    "X_train, y_train = read_buy_rating_data(X_train_df, y_train_df)\n",
    "X_train = featurize(X_train, d=DEGREE)\n",
    "X_dev, y_dev = read_buy_rating_data(X_dev_df, y_dev_df)\n",
    "X_dev = featurize(X_dev, d=DEGREE)\n",
    "\n",
    "knn = KNeighborsClassifier(n_neighbors=250)\n",
    "knn.fit(X_train, y_train)\n",
    "\n",
    "y_pred = knn.predict(X_dev)\n",
    "\n",
    "accuracy_knn = accuracy_score(y_dev, y_pred)\n",
    "print(f\"Validation Accuracy: {accuracy_knn:.4f}\")"
   ]
  },
  {
   "cell_type": "code",
   "execution_count": 207,
   "metadata": {},
   "outputs": [
    {
     "name": "stdout",
     "output_type": "stream",
     "text": [
      "Test Accuracy: 0.1992\n"
     ]
    }
   ],
   "source": [
    "X_test, y_test = read_buy_rating_data(X_test_df, y_test_df)\n",
    "X_test = featurize(X_test, d=DEGREE)\n",
    "\n",
    "y_pred = knn.predict(X_test)\n",
    "accuracy_knn = accuracy_score(y_test, y_pred)\n",
    "print(f\"Test Accuracy: {accuracy_knn:.4f}\")"
   ]
  },
  {
   "cell_type": "code",
   "execution_count": 289,
   "metadata": {},
   "outputs": [
    {
     "ename": "KeyError",
     "evalue": "'Close'",
     "output_type": "error",
     "traceback": [
      "\u001b[0;31m---------------------------------------------------------------------------\u001b[0m",
      "\u001b[0;31mKeyError\u001b[0m                                  Traceback (most recent call last)",
      "File \u001b[0;32m~/cs467/csci467-project/.venv/lib/python3.11/site-packages/pandas/core/indexes/base.py:3652\u001b[0m, in \u001b[0;36mIndex.get_loc\u001b[0;34m(self, key)\u001b[0m\n\u001b[1;32m   3651\u001b[0m \u001b[39mtry\u001b[39;00m:\n\u001b[0;32m-> 3652\u001b[0m     \u001b[39mreturn\u001b[39;00m \u001b[39mself\u001b[39;49m\u001b[39m.\u001b[39;49m_engine\u001b[39m.\u001b[39;49mget_loc(casted_key)\n\u001b[1;32m   3653\u001b[0m \u001b[39mexcept\u001b[39;00m \u001b[39mKeyError\u001b[39;00m \u001b[39mas\u001b[39;00m err:\n",
      "File \u001b[0;32m~/cs467/csci467-project/.venv/lib/python3.11/site-packages/pandas/_libs/index.pyx:147\u001b[0m, in \u001b[0;36mpandas._libs.index.IndexEngine.get_loc\u001b[0;34m()\u001b[0m\n",
      "File \u001b[0;32m~/cs467/csci467-project/.venv/lib/python3.11/site-packages/pandas/_libs/index.pyx:176\u001b[0m, in \u001b[0;36mpandas._libs.index.IndexEngine.get_loc\u001b[0;34m()\u001b[0m\n",
      "File \u001b[0;32mpandas/_libs/hashtable_class_helper.pxi:7080\u001b[0m, in \u001b[0;36mpandas._libs.hashtable.PyObjectHashTable.get_item\u001b[0;34m()\u001b[0m\n",
      "File \u001b[0;32mpandas/_libs/hashtable_class_helper.pxi:7088\u001b[0m, in \u001b[0;36mpandas._libs.hashtable.PyObjectHashTable.get_item\u001b[0;34m()\u001b[0m\n",
      "\u001b[0;31mKeyError\u001b[0m: 'Close'",
      "\nThe above exception was the direct cause of the following exception:\n",
      "\u001b[0;31mKeyError\u001b[0m                                  Traceback (most recent call last)",
      "Cell \u001b[0;32mIn[289], line 13\u001b[0m\n\u001b[1;32m     10\u001b[0m \u001b[39m# Load your dataset\u001b[39;00m\n\u001b[1;32m     11\u001b[0m \u001b[39m# Make sure to replace 'your_data.csv' with the actual path to your dataset\u001b[39;00m\n\u001b[1;32m     12\u001b[0m data \u001b[39m=\u001b[39m get_stock_df(\u001b[39m\"\u001b[39m\u001b[39m/Users/rithikpothuganti/cs467/csci467-project/data/uis.csv\u001b[39m\u001b[39m\"\u001b[39m)\n\u001b[0;32m---> 13\u001b[0m prices \u001b[39m=\u001b[39m data[\u001b[39m'\u001b[39;49m\u001b[39mClose\u001b[39;49m\u001b[39m'\u001b[39;49m]\u001b[39m.\u001b[39mvalues\u001b[39m.\u001b[39mreshape(\u001b[39m-\u001b[39m\u001b[39m1\u001b[39m, \u001b[39m1\u001b[39m)\n\u001b[1;32m     15\u001b[0m \u001b[39m# Normalize data\u001b[39;00m\n\u001b[1;32m     16\u001b[0m scaler \u001b[39m=\u001b[39m MinMaxScaler()\n",
      "File \u001b[0;32m~/cs467/csci467-project/.venv/lib/python3.11/site-packages/pandas/core/frame.py:3761\u001b[0m, in \u001b[0;36mDataFrame.__getitem__\u001b[0;34m(self, key)\u001b[0m\n\u001b[1;32m   3759\u001b[0m \u001b[39mif\u001b[39;00m \u001b[39mself\u001b[39m\u001b[39m.\u001b[39mcolumns\u001b[39m.\u001b[39mnlevels \u001b[39m>\u001b[39m \u001b[39m1\u001b[39m:\n\u001b[1;32m   3760\u001b[0m     \u001b[39mreturn\u001b[39;00m \u001b[39mself\u001b[39m\u001b[39m.\u001b[39m_getitem_multilevel(key)\n\u001b[0;32m-> 3761\u001b[0m indexer \u001b[39m=\u001b[39m \u001b[39mself\u001b[39;49m\u001b[39m.\u001b[39;49mcolumns\u001b[39m.\u001b[39;49mget_loc(key)\n\u001b[1;32m   3762\u001b[0m \u001b[39mif\u001b[39;00m is_integer(indexer):\n\u001b[1;32m   3763\u001b[0m     indexer \u001b[39m=\u001b[39m [indexer]\n",
      "File \u001b[0;32m~/cs467/csci467-project/.venv/lib/python3.11/site-packages/pandas/core/indexes/base.py:3654\u001b[0m, in \u001b[0;36mIndex.get_loc\u001b[0;34m(self, key)\u001b[0m\n\u001b[1;32m   3652\u001b[0m     \u001b[39mreturn\u001b[39;00m \u001b[39mself\u001b[39m\u001b[39m.\u001b[39m_engine\u001b[39m.\u001b[39mget_loc(casted_key)\n\u001b[1;32m   3653\u001b[0m \u001b[39mexcept\u001b[39;00m \u001b[39mKeyError\u001b[39;00m \u001b[39mas\u001b[39;00m err:\n\u001b[0;32m-> 3654\u001b[0m     \u001b[39mraise\u001b[39;00m \u001b[39mKeyError\u001b[39;00m(key) \u001b[39mfrom\u001b[39;00m \u001b[39merr\u001b[39;00m\n\u001b[1;32m   3655\u001b[0m \u001b[39mexcept\u001b[39;00m \u001b[39mTypeError\u001b[39;00m:\n\u001b[1;32m   3656\u001b[0m     \u001b[39m# If we have a listlike key, _check_indexing_error will raise\u001b[39;00m\n\u001b[1;32m   3657\u001b[0m     \u001b[39m#  InvalidIndexError. Otherwise we fall through and re-raise\u001b[39;00m\n\u001b[1;32m   3658\u001b[0m     \u001b[39m#  the TypeError.\u001b[39;00m\n\u001b[1;32m   3659\u001b[0m     \u001b[39mself\u001b[39m\u001b[39m.\u001b[39m_check_indexing_error(key)\n",
      "\u001b[0;31mKeyError\u001b[0m: 'Close'"
     ]
    }
   ],
   "source": [
    "# Recurrent neural network\n",
    "import numpy as np\n",
    "import pandas as pd\n",
    "import torch\n",
    "import torch.nn as nn\n",
    "import torch.optim as optim\n",
    "from torch.utils.data import DataLoader, TensorDataset\n",
    "from sklearn.preprocessing import MinMaxScaler\n",
    "\n",
    "# Load your dataset\n",
    "# Make sure to replace 'your_data.csv' with the actual path to your dataset\n",
    "data = get_stock_df(\"/Users/rithikpothuganti/cs467/csci467-project/data/uis.csv\")\n",
    "prices = data['Close/Last'].values.reshape(-1, 1)\n",
    "\n",
    "# Normalize data\n",
    "scaler = MinMaxScaler()\n",
    "prices_norm = scaler.fit_transform(prices)\n",
    "\n",
    "# Create sequences\n",
    "sequence_length = 60\n",
    "\n",
    "def create_sequences(data, seq_length):\n",
    "    sequences = []\n",
    "    target = []\n",
    "\n",
    "    for i in range(len(data) - seq_length):\n",
    "        sequences.append(data[i : i + seq_length])\n",
    "        target.append(data[i + seq_length])\n",
    "\n",
    "    return np.array(sequences), np.array(target)\n",
    "\n",
    "sequences, targets = create_sequences(prices_norm, sequence_length)\n",
    "\n",
    "# Split into train and test sets\n",
    "train_size = int(0.8 * len(sequences))\n",
    "train_sequences, test_sequences = sequences[:train_size], sequences[train_size:]\n",
    "train_targets, test_targets = targets[:train_size], targets[train_size:]\n",
    "\n",
    "# Convert to PyTorch tensors\n",
    "train_sequences = torch.tensor(train_sequences).float()\n",
    "test_sequences = torch.tensor(test_sequences).float()\n",
    "train_targets = torch.tensor(train_targets).float()\n",
    "test_targets = torch.tensor(test_targets).float()\n",
    "\n",
    "# Create DataLoader\n",
    "train_data = TensorDataset(train_sequences, train_targets)\n",
    "test_data = TensorDataset(test_sequences, test_targets)\n",
    "\n",
    "train_loader = DataLoader(train_data, batch_size=32, shuffle=True)\n",
    "test_loader = DataLoader(test_data, batch_size=32, shuffle=False)\n",
    "\n",
    "# Define RNN model\n",
    "class StockPredictor(nn.Module):\n",
    "    def __init__(self, input_dim, hidden_dim, num_layers, output_dim):\n",
    "        super(StockPredictor, self).__init__()\n",
    "\n",
    "        self.hidden_dim = hidden_dim\n",
    "        self.num_layers = num_layers\n",
    "\n",
    "        self.rnn = nn.LSTM(input_dim, hidden_dim, num_layers, batch_first=True)\n",
    "        self.fc = nn.Linear(hidden_dim, output_dim)\n",
    "\n",
    "    def forward(self, x):\n",
    "        h0 = torch.zeros(self.num_layers, x.size(0), self.hidden_dim).requires_grad_()\n",
    "        c0 = torch.zeros(self.num_layers, x.size(0), self.hidden_dim).requires_grad_()\n",
    "\n",
    "        out, (hn, cn) = self.rnn(x, (h0.detach(), c0.detach()))\n",
    "        out = self.fc(out[:, -1, :])\n",
    "\n",
    "        return out\n",
    "\n",
    "# Model parameters\n",
    "input_dim = 1\n",
    "hidden_dim = 64\n",
    "num_layers = 2\n",
    "output_dim = 1\n",
    "\n",
    "# Instantiate the model\n",
    "model = StockPredictor(input_dim, hidden_dim, num_layers, output_dim)\n",
    "\n",
    "# Loss and optimizer\n",
    "criterion = nn.MSELoss()\n",
    "optimizer = optim.Adam(model.parameters(), lr=0.001)\n",
    "\n",
    "# Training\n",
    "num_epochs = 100\n",
    "\n",
    "for epoch in range(num_epochs):\n",
    "    for i, (sequences, targets) in enumerate(train_loader):\n",
    "        optimizer.zero_grad()\n",
    "        outputs = model(sequences)\n",
    "        loss = criterion(outputs, targets)\n",
    "        loss.backward()\n",
    "        optimizer.step()\n",
    "\n",
    "    if (epoch + 1) % 10 == 0:\n",
    "        print(f'Epoch [{epoch+1}/{num_epochs}], Loss: {loss.item():.4f}')"
   ]
  },
  {
   "cell_type": "code",
   "execution_count": 288,
   "metadata": {},
   "outputs": [
    {
     "ename": "AttributeError",
     "evalue": "'ARIMA' object has no attribute 'eval'",
     "output_type": "error",
     "traceback": [
      "\u001b[0;31m---------------------------------------------------------------------------\u001b[0m",
      "\u001b[0;31mAttributeError\u001b[0m                            Traceback (most recent call last)",
      "Cell \u001b[0;32mIn[288], line 2\u001b[0m\n\u001b[1;32m      1\u001b[0m \u001b[39m# Testing\u001b[39;00m\n\u001b[0;32m----> 2\u001b[0m model\u001b[39m.\u001b[39;49meval()\n\u001b[1;32m      3\u001b[0m test_predictions \u001b[39m=\u001b[39m []\n\u001b[1;32m      4\u001b[0m \u001b[39mwith\u001b[39;00m torch\u001b[39m.\u001b[39mno_grad():\n",
      "\u001b[0;31mAttributeError\u001b[0m: 'ARIMA' object has no attribute 'eval'"
     ]
    }
   ],
   "source": [
    "# Testing\n",
    "model.eval()\n",
    "test_predictions = []\n",
    "with torch.no_grad():\n",
    "    for sequences, targets in test_loader:\n",
    "        outputs = model(sequences)\n",
    "        test_predictions.append(outputs.numpy())\n",
    "\n",
    "# Convert to numpy array and reshape\n",
    "test_predictions = np.concatenate(test_predictions, axis=0)\n",
    "test_predictions = scaler.inverse_transform(test_predictions)\n",
    "test_targets = scaler.inverse_transform(test_targets)\n",
    "\n",
    "# Calculate RMSE\n",
    "rmse = np.sqrt(mean_squared_error(test_targets, test_predictions))\n",
    "print('Test RMSE: %.3f' % rmse)\n",
    "\n",
    "# Plot predictions vs. targets\n",
    "import matplotlib.pyplot as plt\n",
    "plt.plot(test_targets, label='True')\n",
    "plt.plot(test_predictions, label='Predicted')\n",
    "plt.legend()\n",
    "plt.show()\n"
   ]
  },
  {
   "cell_type": "code",
   "execution_count": 286,
   "metadata": {},
   "outputs": [
    {
     "ename": "AttributeError",
     "evalue": "'ARIMA' object has no attribute 'eval'",
     "output_type": "error",
     "traceback": [
      "\u001b[0;31m---------------------------------------------------------------------------\u001b[0m",
      "\u001b[0;31mAttributeError\u001b[0m                            Traceback (most recent call last)",
      "Cell \u001b[0;32mIn[286], line 2\u001b[0m\n\u001b[1;32m      1\u001b[0m \u001b[39m# Testing\u001b[39;00m\n\u001b[0;32m----> 2\u001b[0m model\u001b[39m.\u001b[39;49meval()\n\u001b[1;32m      3\u001b[0m \u001b[39mwith\u001b[39;00m torch\u001b[39m.\u001b[39mno_grad():\n\u001b[1;32m      4\u001b[0m     \u001b[39m# Use the last `sequence_length` values in the test set as input\u001b[39;00m\n\u001b[1;32m      5\u001b[0m     last_sequence \u001b[39m=\u001b[39m test_sequences[\u001b[39m-\u001b[39m\u001b[39m1\u001b[39m:]\n",
      "\u001b[0;31mAttributeError\u001b[0m: 'ARIMA' object has no attribute 'eval'"
     ]
    }
   ],
   "source": [
    "# Testing\n",
    "model.eval()\n",
    "with torch.no_grad():\n",
    "    # Use the last `sequence_length` values in the test set as input\n",
    "    last_sequence = test_sequences[-1:]\n",
    "    predicted_prices = []\n",
    "    for i in range(days_into_future):\n",
    "        # Use the model to make a prediction for the next day\n",
    "        predicted = model(last_sequence).numpy()\n",
    "        predicted_prices.append(predicted[0][0])\n",
    "\n",
    "        # Update the input sequence with the predicted value\n",
    "        last_sequence = torch.tensor(np.append(last_sequence[:, 1:, :], predicted, axis=1)).float()\n",
    "\n",
    "# Convert to numpy array and reshape\n",
    "predicted_prices = np.array(predicted_prices).reshape(-1, 1)\n",
    "predicted_prices = scaler.inverse_transform(predicted_prices)\n",
    "\n",
    "# Create arrays for x-axis labels\n",
    "test_dates = data['Date'].values[-len(test_targets):]\n",
    "next_year_dates = pd.date_range(test_dates[-1], periods=days_into_future+1, freq='d')[1:]\n",
    "\n",
    "# Plot predictions vs. targets\n",
    "import matplotlib.pyplot as plt\n",
    "plt.plot(test_dates, test_targets, label='True')\n",
    "plt.plot(test_dates, scaler.inverse_transform(model(test_sequences).numpy()), label='Predicted')\n",
    "plt.plot(next_year_dates, predicted_prices, label='Next Year')\n",
    "plt.legend()\n",
    "plt.show()\n"
   ]
  },
  {
   "cell_type": "code",
   "execution_count": 208,
   "metadata": {},
   "outputs": [
    {
     "data": {
      "image/png": "[encoded data removed]",
      "text/plain": [
       "<Figure size 640x480 with 1 Axes>"
      ]
     },
     "metadata": {},
     "output_type": "display_data"
    },
    {
     "data": {
      "image/png": "[encoded data removed]",
      "text/plain": [
       "<Figure size 640x480 with 1 Axes>"
      ]
     },
     "metadata": {},
     "output_type": "display_data"
    },
    {
     "data": {
      "image/png": "[encoded data removed]",
      "text/plain": [
       "<Figure size 640x480 with 1 Axes>"
      ]
     },
     "metadata": {},
     "output_type": "display_data"
    },
    {
     "data": {
      "image/png": "[encoded data removed]",
      "text/plain": [
       "<Figure size 640x480 with 1 Axes>"
      ]
     },
     "metadata": {},
     "output_type": "display_data"
    }
   ],
   "source": [
    "import numpy as np\n",
    "import matplotlib.pyplot as plt\n",
    "\n",
    "# Normal distribution\n",
    "mean = 0.05\n",
    "std_dev = 0.2\n",
    "num_samples = 1000\n",
    "\n",
    "normal_samples = np.random.normal(loc=mean, scale=std_dev, size=num_samples)\n",
    "\n",
    "plt.hist(normal_samples, bins=50, alpha=0.75, label='Normal')\n",
    "plt.xlabel('Value')\n",
    "plt.ylabel('Frequency')\n",
    "plt.title('Normal Distribution')\n",
    "plt.legend()\n",
    "plt.show()\n",
    "\n",
    "# Log-normal distribution\n",
    "mu = np.log(mean**2 / np.sqrt(mean**2 + std_dev**2))\n",
    "sigma = np.sqrt(np.log(1 + std_dev**2 / mean**2))\n",
    "\n",
    "lognormal_samples = np.random.lognormal(mean=mu, sigma=sigma, size=num_samples)\n",
    "\n",
    "plt.hist(lognormal_samples, bins=50, alpha=0.75, label='Log-normal')\n",
    "plt.xlabel('Value')\n",
    "plt.ylabel('Frequency')\n",
    "plt.title('Log-normal Distribution')\n",
    "plt.legend()\n",
    "plt.show()\n",
    "\n",
    "# Student's t-distribution\n",
    "df = 5\n",
    "\n",
    "t_samples = np.random.standard_t(df, size=num_samples)\n",
    "\n",
    "plt.hist(t_samples, bins=50, alpha=0.75, label=\"Student's t\")\n",
    "plt.xlabel('Value')\n",
    "plt.ylabel('Frequency')\n",
    "plt.title(\"Student's t-Distribution\")\n",
    "plt.legend()\n",
    "plt.show()\n",
    "\n",
    "# Exponential distribution\n",
    "scale = 1 / mean\n",
    "\n",
    "exponential_samples = np.random.exponential(scale=scale, size=num_samples)\n",
    "\n",
    "plt.hist(exponential_samples, bins=50, alpha=0.75, label='Exponential')\n",
    "plt.xlabel('Value')\n",
    "plt.ylabel('Frequency')\n",
    "plt.title('Exponential Distribution')\n",
    "plt.legend()\n",
    "plt.show()\n"
   ]
  }
 ],
 "metadata": {
  "kernelspec": {
   "display_name": "Python 3",
   "language": "python",
   "name": "python3"
  },
  "language_info": {
   "codemirror_mode": {
    "name": "ipython",
    "version": 3
   },
   "file_extension": ".py",
   "mimetype": "text/x-python",
   "name": "python",
   "nbconvert_exporter": "python",
   "pygments_lexer": "ipython3",
   "version": "3.11.2"
  },
  "orig_nbformat": 4
 },
 "nbformat": 4,
 "nbformat_minor": 2
}
