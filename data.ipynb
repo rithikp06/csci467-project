{
 "cells": [
  {
   "cell_type": "code",
   "execution_count": 112,
   "metadata": {},
   "outputs": [],
   "source": [
    "import pandas as pd\n",
    "import numpy as np"
   ]
  },
  {
   "cell_type": "code",
   "execution_count": 113,
   "metadata": {},
   "outputs": [
    {
     "name": "stdout",
     "output_type": "stream",
     "text": [
      "            Date Close/Last     Volume      Open       High        Low\n",
      "0     03/10/2023    $148.50   68572400   $150.21    $150.94  $147.6096\n",
      "1     03/09/2023    $150.59   53833580  $153.559   $154.535   $150.225\n",
      "2     03/08/2023    $152.87   47204790   $152.81    $153.47    $151.83\n",
      "3     03/07/2023    $151.60   56182030   $153.70  $154.0299    $151.13\n",
      "4     03/06/2023    $153.83   87558030  $153.785    $156.30    $153.46\n",
      "...          ...        ...        ...       ...        ...        ...\n",
      "2512  03/19/2013   $16.2318  525875350  $16.4107   $16.4632   $16.0179\n",
      "2513  03/18/2013   $16.2757  599844320  $15.7661   $16.3379   $15.7571\n",
      "2514  03/15/2013    $15.845  642349423  $15.6404   $15.8654   $15.6161\n",
      "2515  03/14/2013   $15.4464  303205719  $15.4582   $15.5229   $15.3732\n",
      "2516  03/13/2013   $15.2982  405257558  $15.3018   $15.5179   $15.1914\n",
      "\n",
      "[2517 rows x 6 columns]\n"
     ]
    }
   ],
   "source": [
    "DIR = \"/Users/rithikpothuganti/cs467/project\"\n",
    "price_data = pd.read_csv(f\"{DIR}/data/aapl.csv\")\n",
    "print(price_data)"
   ]
  },
  {
   "cell_type": "code",
   "execution_count": 114,
   "metadata": {},
   "outputs": [
    {
     "name": "stdout",
     "output_type": "stream",
     "text": [
      "47     128.41\n",
      "48     127.99\n",
      "49     129.67\n",
      "50     131.38\n",
      "51     130.92\n",
      "        ...  \n",
      "293    172.89\n",
      "294    172.70\n",
      "295    179.61\n",
      "296    182.63\n",
      "297    177.83\n",
      "Name: Open, Length: 251, dtype: float64\n"
     ]
    },
    {
     "name": "stderr",
     "output_type": "stream",
     "text": [
      "/var/folders/ps/hbp83zj53cb60mmc6jt7f2s00000gn/T/ipykernel_1854/3709823219.py:5: SettingWithCopyWarning: \n",
      "A value is trying to be set on a copy of a slice from a DataFrame.\n",
      "Try using .loc[row_indexer,col_indexer] = value instead\n",
      "\n",
      "See the caveats in the documentation: https://pandas.pydata.org/pandas-docs/stable/user_guide/indexing.html#returning-a-view-versus-a-copy\n",
      "  price_data_2022['Open'] = price_data_2022['Open'].apply(lambda x: float(str(x)[1:]))\n"
     ]
    }
   ],
   "source": [
    "price_data['Date'] = pd.to_datetime(price_data['Date'])\n",
    "price_data_2022 = price_data.loc[(price_data['Date'] <= pd.to_datetime('12/31/2022'))  & (price_data['Date'] >= pd.to_datetime('01/01/2022'))]\n",
    "\n",
    "# convert open price data to float\n",
    "price_data_2022['Open'] = price_data_2022['Open'].apply(lambda x: float(str(x)[1:]))\n",
    "print(price_data_2022['Open'])\n"
   ]
  },
  {
   "cell_type": "code",
   "execution_count": 115,
   "metadata": {},
   "outputs": [
    {
     "name": "stdout",
     "output_type": "stream",
     "text": [
      "0.17131474103585656\n"
     ]
    }
   ],
   "source": [
    "# get percentage of days price was above 170\n",
    "print(np.sum(price_data_2022['Open'] > 170) / len(price_data_2022['Open']))"
   ]
  },
  {
   "cell_type": "code",
   "execution_count": null,
   "metadata": {},
   "outputs": [],
   "source": [
    "\n",
    "\n"
   ]
  }
 ],
 "metadata": {
  "kernelspec": {
   "display_name": "Python 3",
   "language": "python",
   "name": "python3"
  },
  "language_info": {
   "codemirror_mode": {
    "name": "ipython",
    "version": 3
   },
   "file_extension": ".py",
   "mimetype": "text/x-python",
   "name": "python",
   "nbconvert_exporter": "python",
   "pygments_lexer": "ipython3",
   "version": "3.11.2"
  },
  "orig_nbformat": 4
 },
 "nbformat": 4,
 "nbformat_minor": 2
}
